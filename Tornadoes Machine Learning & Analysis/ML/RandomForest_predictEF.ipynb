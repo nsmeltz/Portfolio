{
 "cells": [
  {
   "cell_type": "code",
   "execution_count": 1,
   "id": "5041fc74",
   "metadata": {
    "executionInfo": {
     "elapsed": 180,
     "status": "ok",
     "timestamp": 1652219886406,
     "user": {
      "displayName": "Natalie Smeltz",
      "userId": "00128997758011837641"
     },
     "user_tz": 300
    },
    "id": "5041fc74"
   },
   "outputs": [],
   "source": [
    "# Import dependencies\n",
    "from pathlib import Path \n",
    "import pandas as pd\n",
    "import numpy as np\n",
    "import matplotlib.pyplot as plt"
   ]
  },
  {
   "cell_type": "markdown",
   "id": "a373c3aa",
   "metadata": {},
   "source": [
    "## Import & Inspect the Data"
   ]
  },
  {
   "cell_type": "code",
   "execution_count": 2,
   "id": "a886bec6",
   "metadata": {
    "executionInfo": {
     "elapsed": 3,
     "status": "ok",
     "timestamp": 1652219886564,
     "user": {
      "displayName": "Natalie Smeltz",
      "userId": "00128997758011837641"
     },
     "user_tz": 300
    },
    "id": "a886bec6"
   },
   "outputs": [],
   "source": [
    "# Loading data\n",
    "file_path = Path(\"../Cleaned_Data/1950-2020_tornadoes_cleaned.csv\")\n",
    "tornado_df = pd.read_csv(file_path)"
   ]
  },
  {
   "cell_type": "code",
   "execution_count": 3,
   "id": "1dcbca99",
   "metadata": {
    "colab": {
     "base_uri": "https://localhost:8080/"
    },
    "executionInfo": {
     "elapsed": 3,
     "status": "ok",
     "timestamp": 1652219920805,
     "user": {
      "displayName": "Natalie Smeltz",
      "userId": "00128997758011837641"
     },
     "user_tz": 300
    },
    "id": "1dcbca99",
    "outputId": "55803454-46ea-4dbf-9deb-d87484b022c9"
   },
   "outputs": [
    {
     "data": {
      "text/plain": [
       "Index(['Timestamp', 'Year', 'Month', 'Day', 'State', 'Start_Lat', 'Start_Lon',\n",
       "       'End_Lat', 'End_Lon', 'EF', 'Injuries', 'Fatalities', 'Loss',\n",
       "       'Crop_Loss', 'Length', 'Width'],\n",
       "      dtype='object')"
      ]
     },
     "execution_count": 3,
     "metadata": {},
     "output_type": "execute_result"
    }
   ],
   "source": [
    "tornado_df.columns"
   ]
  },
  {
   "cell_type": "code",
   "execution_count": 4,
   "id": "8b99c5f9",
   "metadata": {
    "executionInfo": {
     "elapsed": 3,
     "status": "ok",
     "timestamp": 1652219920806,
     "user": {
      "displayName": "Natalie Smeltz",
      "userId": "00128997758011837641"
     },
     "user_tz": 300
    },
    "id": "8b99c5f9"
   },
   "outputs": [
    {
     "data": {
      "text/html": [
       "<div>\n",
       "<style scoped>\n",
       "    .dataframe tbody tr th:only-of-type {\n",
       "        vertical-align: middle;\n",
       "    }\n",
       "\n",
       "    .dataframe tbody tr th {\n",
       "        vertical-align: top;\n",
       "    }\n",
       "\n",
       "    .dataframe thead th {\n",
       "        text-align: right;\n",
       "    }\n",
       "</style>\n",
       "<table border=\"1\" class=\"dataframe\">\n",
       "  <thead>\n",
       "    <tr style=\"text-align: right;\">\n",
       "      <th></th>\n",
       "      <th>Timestamp</th>\n",
       "      <th>Year</th>\n",
       "      <th>Month</th>\n",
       "      <th>Day</th>\n",
       "      <th>State</th>\n",
       "      <th>Start_Lat</th>\n",
       "      <th>Start_Lon</th>\n",
       "      <th>End_Lat</th>\n",
       "      <th>End_Lon</th>\n",
       "      <th>EF</th>\n",
       "      <th>Injuries</th>\n",
       "      <th>Fatalities</th>\n",
       "      <th>Loss</th>\n",
       "      <th>Crop_Loss</th>\n",
       "      <th>Length</th>\n",
       "      <th>Width</th>\n",
       "    </tr>\n",
       "  </thead>\n",
       "  <tbody>\n",
       "    <tr>\n",
       "      <th>41903</th>\n",
       "      <td>2000-06-01 17:06:00</td>\n",
       "      <td>2000</td>\n",
       "      <td>6</td>\n",
       "      <td>1</td>\n",
       "      <td>WI</td>\n",
       "      <td>43.4000</td>\n",
       "      <td>-88.6300</td>\n",
       "      <td>43.3800</td>\n",
       "      <td>-88.3700</td>\n",
       "      <td>2</td>\n",
       "      <td>0</td>\n",
       "      <td>0</td>\n",
       "      <td>1110000.0</td>\n",
       "      <td>400000.0</td>\n",
       "      <td>17.00</td>\n",
       "      <td>120</td>\n",
       "    </tr>\n",
       "    <tr>\n",
       "      <th>49035</th>\n",
       "      <td>2006-12-31 14:45:00</td>\n",
       "      <td>2006</td>\n",
       "      <td>12</td>\n",
       "      <td>31</td>\n",
       "      <td>GA</td>\n",
       "      <td>32.2700</td>\n",
       "      <td>-83.7300</td>\n",
       "      <td>32.2700</td>\n",
       "      <td>-83.7300</td>\n",
       "      <td>2</td>\n",
       "      <td>1</td>\n",
       "      <td>0</td>\n",
       "      <td>150000.0</td>\n",
       "      <td>250000.0</td>\n",
       "      <td>0.46</td>\n",
       "      <td>50</td>\n",
       "    </tr>\n",
       "    <tr>\n",
       "      <th>50046</th>\n",
       "      <td>2007-10-18 17:10:00</td>\n",
       "      <td>2007</td>\n",
       "      <td>10</td>\n",
       "      <td>18</td>\n",
       "      <td>KY</td>\n",
       "      <td>37.8100</td>\n",
       "      <td>-87.0000</td>\n",
       "      <td>37.8900</td>\n",
       "      <td>-86.7700</td>\n",
       "      <td>2</td>\n",
       "      <td>0</td>\n",
       "      <td>0</td>\n",
       "      <td>200000.0</td>\n",
       "      <td>50000.0</td>\n",
       "      <td>13.93</td>\n",
       "      <td>200</td>\n",
       "    </tr>\n",
       "    <tr>\n",
       "      <th>50056</th>\n",
       "      <td>2007-10-18 18:32:00</td>\n",
       "      <td>2007</td>\n",
       "      <td>10</td>\n",
       "      <td>18</td>\n",
       "      <td>KY</td>\n",
       "      <td>37.6200</td>\n",
       "      <td>-87.4800</td>\n",
       "      <td>37.7200</td>\n",
       "      <td>-87.1800</td>\n",
       "      <td>2</td>\n",
       "      <td>4</td>\n",
       "      <td>0</td>\n",
       "      <td>900000.0</td>\n",
       "      <td>200000.0</td>\n",
       "      <td>17.26</td>\n",
       "      <td>360</td>\n",
       "    </tr>\n",
       "    <tr>\n",
       "      <th>50070</th>\n",
       "      <td>2007-10-18 20:03:00</td>\n",
       "      <td>2007</td>\n",
       "      <td>10</td>\n",
       "      <td>18</td>\n",
       "      <td>IN</td>\n",
       "      <td>38.4700</td>\n",
       "      <td>-85.5500</td>\n",
       "      <td>38.5100</td>\n",
       "      <td>-85.4800</td>\n",
       "      <td>3</td>\n",
       "      <td>0</td>\n",
       "      <td>0</td>\n",
       "      <td>1000000.0</td>\n",
       "      <td>10000.0</td>\n",
       "      <td>4.80</td>\n",
       "      <td>440</td>\n",
       "    </tr>\n",
       "    <tr>\n",
       "      <th>...</th>\n",
       "      <td>...</td>\n",
       "      <td>...</td>\n",
       "      <td>...</td>\n",
       "      <td>...</td>\n",
       "      <td>...</td>\n",
       "      <td>...</td>\n",
       "      <td>...</td>\n",
       "      <td>...</td>\n",
       "      <td>...</td>\n",
       "      <td>...</td>\n",
       "      <td>...</td>\n",
       "      <td>...</td>\n",
       "      <td>...</td>\n",
       "      <td>...</td>\n",
       "      <td>...</td>\n",
       "      <td>...</td>\n",
       "    </tr>\n",
       "    <tr>\n",
       "      <th>66897</th>\n",
       "      <td>2020-08-27 17:45:00</td>\n",
       "      <td>2020</td>\n",
       "      <td>8</td>\n",
       "      <td>27</td>\n",
       "      <td>AR</td>\n",
       "      <td>35.3051</td>\n",
       "      <td>-91.1835</td>\n",
       "      <td>35.3171</td>\n",
       "      <td>-91.2003</td>\n",
       "      <td>0</td>\n",
       "      <td>0</td>\n",
       "      <td>0</td>\n",
       "      <td>20000.0</td>\n",
       "      <td>5000.0</td>\n",
       "      <td>1.26</td>\n",
       "      <td>50</td>\n",
       "    </tr>\n",
       "    <tr>\n",
       "      <th>66918</th>\n",
       "      <td>2020-08-29 15:26:00</td>\n",
       "      <td>2020</td>\n",
       "      <td>8</td>\n",
       "      <td>29</td>\n",
       "      <td>NY</td>\n",
       "      <td>42.9390</td>\n",
       "      <td>-73.7000</td>\n",
       "      <td>42.9380</td>\n",
       "      <td>-73.6950</td>\n",
       "      <td>1</td>\n",
       "      <td>1</td>\n",
       "      <td>0</td>\n",
       "      <td>35000.0</td>\n",
       "      <td>20000.0</td>\n",
       "      <td>0.26</td>\n",
       "      <td>50</td>\n",
       "    </tr>\n",
       "    <tr>\n",
       "      <th>66919</th>\n",
       "      <td>2020-08-29 15:42:00</td>\n",
       "      <td>2020</td>\n",
       "      <td>8</td>\n",
       "      <td>29</td>\n",
       "      <td>NY</td>\n",
       "      <td>42.9160</td>\n",
       "      <td>-73.5950</td>\n",
       "      <td>42.8982</td>\n",
       "      <td>-73.5596</td>\n",
       "      <td>1</td>\n",
       "      <td>0</td>\n",
       "      <td>0</td>\n",
       "      <td>45000.0</td>\n",
       "      <td>30000.0</td>\n",
       "      <td>2.17</td>\n",
       "      <td>100</td>\n",
       "    </tr>\n",
       "    <tr>\n",
       "      <th>66971</th>\n",
       "      <td>2020-08-06 14:02:00</td>\n",
       "      <td>2020</td>\n",
       "      <td>8</td>\n",
       "      <td>6</td>\n",
       "      <td>VA</td>\n",
       "      <td>38.2210</td>\n",
       "      <td>-78.8770</td>\n",
       "      <td>38.2090</td>\n",
       "      <td>-78.8320</td>\n",
       "      <td>0</td>\n",
       "      <td>0</td>\n",
       "      <td>0</td>\n",
       "      <td>150000.0</td>\n",
       "      <td>100000.0</td>\n",
       "      <td>2.58</td>\n",
       "      <td>100</td>\n",
       "    </tr>\n",
       "    <tr>\n",
       "      <th>66977</th>\n",
       "      <td>2020-08-09 13:02:00</td>\n",
       "      <td>2020</td>\n",
       "      <td>8</td>\n",
       "      <td>9</td>\n",
       "      <td>ND</td>\n",
       "      <td>46.3662</td>\n",
       "      <td>-98.5613</td>\n",
       "      <td>46.3658</td>\n",
       "      <td>-98.5431</td>\n",
       "      <td>1</td>\n",
       "      <td>0</td>\n",
       "      <td>0</td>\n",
       "      <td>225000.0</td>\n",
       "      <td>15000.0</td>\n",
       "      <td>0.87</td>\n",
       "      <td>100</td>\n",
       "    </tr>\n",
       "  </tbody>\n",
       "</table>\n",
       "<p>673 rows × 16 columns</p>\n",
       "</div>"
      ],
      "text/plain": [
       "                 Timestamp  Year  Month  Day State  Start_Lat  Start_Lon  \\\n",
       "41903  2000-06-01 17:06:00  2000      6    1    WI    43.4000   -88.6300   \n",
       "49035  2006-12-31 14:45:00  2006     12   31    GA    32.2700   -83.7300   \n",
       "50046  2007-10-18 17:10:00  2007     10   18    KY    37.8100   -87.0000   \n",
       "50056  2007-10-18 18:32:00  2007     10   18    KY    37.6200   -87.4800   \n",
       "50070  2007-10-18 20:03:00  2007     10   18    IN    38.4700   -85.5500   \n",
       "...                    ...   ...    ...  ...   ...        ...        ...   \n",
       "66897  2020-08-27 17:45:00  2020      8   27    AR    35.3051   -91.1835   \n",
       "66918  2020-08-29 15:26:00  2020      8   29    NY    42.9390   -73.7000   \n",
       "66919  2020-08-29 15:42:00  2020      8   29    NY    42.9160   -73.5950   \n",
       "66971  2020-08-06 14:02:00  2020      8    6    VA    38.2210   -78.8770   \n",
       "66977  2020-08-09 13:02:00  2020      8    9    ND    46.3662   -98.5613   \n",
       "\n",
       "       End_Lat  End_Lon  EF  Injuries  Fatalities       Loss  Crop_Loss  \\\n",
       "41903  43.3800 -88.3700   2         0           0  1110000.0   400000.0   \n",
       "49035  32.2700 -83.7300   2         1           0   150000.0   250000.0   \n",
       "50046  37.8900 -86.7700   2         0           0   200000.0    50000.0   \n",
       "50056  37.7200 -87.1800   2         4           0   900000.0   200000.0   \n",
       "50070  38.5100 -85.4800   3         0           0  1000000.0    10000.0   \n",
       "...        ...      ...  ..       ...         ...        ...        ...   \n",
       "66897  35.3171 -91.2003   0         0           0    20000.0     5000.0   \n",
       "66918  42.9380 -73.6950   1         1           0    35000.0    20000.0   \n",
       "66919  42.8982 -73.5596   1         0           0    45000.0    30000.0   \n",
       "66971  38.2090 -78.8320   0         0           0   150000.0   100000.0   \n",
       "66977  46.3658 -98.5431   1         0           0   225000.0    15000.0   \n",
       "\n",
       "       Length  Width  \n",
       "41903   17.00    120  \n",
       "49035    0.46     50  \n",
       "50046   13.93    200  \n",
       "50056   17.26    360  \n",
       "50070    4.80    440  \n",
       "...       ...    ...  \n",
       "66897    1.26     50  \n",
       "66918    0.26     50  \n",
       "66919    2.17    100  \n",
       "66971    2.58    100  \n",
       "66977    0.87    100  \n",
       "\n",
       "[673 rows x 16 columns]"
      ]
     },
     "execution_count": 4,
     "metadata": {},
     "output_type": "execute_result"
    }
   ],
   "source": [
    "# drop na columns\n",
    "tornado_df = tornado_df.dropna()\n",
    "tornado_df"
   ]
  },
  {
   "cell_type": "markdown",
   "id": "4046e39c",
   "metadata": {
    "id": "4046e39c"
   },
   "source": [
    "## Machine Learning"
   ]
  },
  {
   "cell_type": "code",
   "execution_count": 5,
   "id": "e87307fb",
   "metadata": {
    "executionInfo": {
     "elapsed": 3,
     "status": "ok",
     "timestamp": 1652219920806,
     "user": {
      "displayName": "Natalie Smeltz",
      "userId": "00128997758011837641"
     },
     "user_tz": 300
    },
    "id": "e87307fb"
   },
   "outputs": [],
   "source": [
    "# Import Dependencies\n",
    "from sklearn.model_selection import train_test_split\n",
    "from sklearn.preprocessing import StandardScaler\n",
    "from sklearn.ensemble import RandomForestClassifier\n",
    "from sklearn.metrics import confusion_matrix, accuracy_score, classification_report"
   ]
  },
  {
   "cell_type": "markdown",
   "id": "29b3b88f",
   "metadata": {
    "id": "29b3b88f"
   },
   "source": [
    "### Random Forest -- feature importance"
   ]
  },
  {
   "cell_type": "markdown",
   "id": "96cec66b",
   "metadata": {
    "id": "96cec66b"
   },
   "source": [
    "This algorithm takes inputs (Injuries,\tFatalities,\tLoss,\tCrop_Loss,\tLength, &\tWidth) to predict EF Rating"
   ]
  },
  {
   "cell_type": "markdown",
   "id": "9b432474",
   "metadata": {
    "id": "9b432474"
   },
   "source": [
    "#### 1. Define input data (X) and output data (y)"
   ]
  },
  {
   "cell_type": "code",
   "execution_count": 6,
   "id": "b67ab39f",
   "metadata": {
    "colab": {
     "base_uri": "https://localhost:8080/",
     "height": 424
    },
    "executionInfo": {
     "elapsed": 183,
     "status": "ok",
     "timestamp": 1652219920987,
     "user": {
      "displayName": "Natalie Smeltz",
      "userId": "00128997758011837641"
     },
     "user_tz": 300
    },
    "id": "b67ab39f",
    "outputId": "feea4a99-f7ac-4738-8e4c-83fe436b6691"
   },
   "outputs": [
    {
     "data": {
      "text/html": [
       "<div>\n",
       "<style scoped>\n",
       "    .dataframe tbody tr th:only-of-type {\n",
       "        vertical-align: middle;\n",
       "    }\n",
       "\n",
       "    .dataframe tbody tr th {\n",
       "        vertical-align: top;\n",
       "    }\n",
       "\n",
       "    .dataframe thead th {\n",
       "        text-align: right;\n",
       "    }\n",
       "</style>\n",
       "<table border=\"1\" class=\"dataframe\">\n",
       "  <thead>\n",
       "    <tr style=\"text-align: right;\">\n",
       "      <th></th>\n",
       "      <th>Injuries</th>\n",
       "      <th>Fatalities</th>\n",
       "      <th>Loss</th>\n",
       "      <th>Crop_Loss</th>\n",
       "      <th>Length</th>\n",
       "      <th>Width</th>\n",
       "    </tr>\n",
       "  </thead>\n",
       "  <tbody>\n",
       "    <tr>\n",
       "      <th>41903</th>\n",
       "      <td>0</td>\n",
       "      <td>0</td>\n",
       "      <td>1110000.0</td>\n",
       "      <td>400000.0</td>\n",
       "      <td>17.00</td>\n",
       "      <td>120</td>\n",
       "    </tr>\n",
       "    <tr>\n",
       "      <th>49035</th>\n",
       "      <td>1</td>\n",
       "      <td>0</td>\n",
       "      <td>150000.0</td>\n",
       "      <td>250000.0</td>\n",
       "      <td>0.46</td>\n",
       "      <td>50</td>\n",
       "    </tr>\n",
       "    <tr>\n",
       "      <th>50046</th>\n",
       "      <td>0</td>\n",
       "      <td>0</td>\n",
       "      <td>200000.0</td>\n",
       "      <td>50000.0</td>\n",
       "      <td>13.93</td>\n",
       "      <td>200</td>\n",
       "    </tr>\n",
       "    <tr>\n",
       "      <th>50056</th>\n",
       "      <td>4</td>\n",
       "      <td>0</td>\n",
       "      <td>900000.0</td>\n",
       "      <td>200000.0</td>\n",
       "      <td>17.26</td>\n",
       "      <td>360</td>\n",
       "    </tr>\n",
       "    <tr>\n",
       "      <th>50070</th>\n",
       "      <td>0</td>\n",
       "      <td>0</td>\n",
       "      <td>1000000.0</td>\n",
       "      <td>10000.0</td>\n",
       "      <td>4.80</td>\n",
       "      <td>440</td>\n",
       "    </tr>\n",
       "    <tr>\n",
       "      <th>...</th>\n",
       "      <td>...</td>\n",
       "      <td>...</td>\n",
       "      <td>...</td>\n",
       "      <td>...</td>\n",
       "      <td>...</td>\n",
       "      <td>...</td>\n",
       "    </tr>\n",
       "    <tr>\n",
       "      <th>66897</th>\n",
       "      <td>0</td>\n",
       "      <td>0</td>\n",
       "      <td>20000.0</td>\n",
       "      <td>5000.0</td>\n",
       "      <td>1.26</td>\n",
       "      <td>50</td>\n",
       "    </tr>\n",
       "    <tr>\n",
       "      <th>66918</th>\n",
       "      <td>1</td>\n",
       "      <td>0</td>\n",
       "      <td>35000.0</td>\n",
       "      <td>20000.0</td>\n",
       "      <td>0.26</td>\n",
       "      <td>50</td>\n",
       "    </tr>\n",
       "    <tr>\n",
       "      <th>66919</th>\n",
       "      <td>0</td>\n",
       "      <td>0</td>\n",
       "      <td>45000.0</td>\n",
       "      <td>30000.0</td>\n",
       "      <td>2.17</td>\n",
       "      <td>100</td>\n",
       "    </tr>\n",
       "    <tr>\n",
       "      <th>66971</th>\n",
       "      <td>0</td>\n",
       "      <td>0</td>\n",
       "      <td>150000.0</td>\n",
       "      <td>100000.0</td>\n",
       "      <td>2.58</td>\n",
       "      <td>100</td>\n",
       "    </tr>\n",
       "    <tr>\n",
       "      <th>66977</th>\n",
       "      <td>0</td>\n",
       "      <td>0</td>\n",
       "      <td>225000.0</td>\n",
       "      <td>15000.0</td>\n",
       "      <td>0.87</td>\n",
       "      <td>100</td>\n",
       "    </tr>\n",
       "  </tbody>\n",
       "</table>\n",
       "<p>673 rows × 6 columns</p>\n",
       "</div>"
      ],
      "text/plain": [
       "       Injuries  Fatalities       Loss  Crop_Loss  Length  Width\n",
       "41903         0           0  1110000.0   400000.0   17.00    120\n",
       "49035         1           0   150000.0   250000.0    0.46     50\n",
       "50046         0           0   200000.0    50000.0   13.93    200\n",
       "50056         4           0   900000.0   200000.0   17.26    360\n",
       "50070         0           0  1000000.0    10000.0    4.80    440\n",
       "...         ...         ...        ...        ...     ...    ...\n",
       "66897         0           0    20000.0     5000.0    1.26     50\n",
       "66918         1           0    35000.0    20000.0    0.26     50\n",
       "66919         0           0    45000.0    30000.0    2.17    100\n",
       "66971         0           0   150000.0   100000.0    2.58    100\n",
       "66977         0           0   225000.0    15000.0    0.87    100\n",
       "\n",
       "[673 rows x 6 columns]"
      ]
     },
     "execution_count": 6,
     "metadata": {},
     "output_type": "execute_result"
    }
   ],
   "source": [
    "X = tornado_df.copy()\n",
    "X = X.drop(['Timestamp', 'Year', 'Month', 'Day', 'State', 'Start_Lat', 'Start_Lon','End_Lat', 'End_Lon','EF'], axis=1)\n",
    "X"
   ]
  },
  {
   "cell_type": "code",
   "execution_count": 7,
   "id": "18d8940f",
   "metadata": {
    "colab": {
     "base_uri": "https://localhost:8080/"
    },
    "executionInfo": {
     "elapsed": 6,
     "status": "ok",
     "timestamp": 1652219920988,
     "user": {
      "displayName": "Natalie Smeltz",
      "userId": "00128997758011837641"
     },
     "user_tz": 300
    },
    "id": "18d8940f",
    "outputId": "ac0006a5-54dc-4f4f-fd8d-1fd3d52c1339"
   },
   "outputs": [
    {
     "data": {
      "text/plain": [
       "array([2, 2, 2, 2, 3, 1, 1, 2, 0, 2], dtype=int64)"
      ]
     },
     "execution_count": 7,
     "metadata": {},
     "output_type": "execute_result"
    }
   ],
   "source": [
    "y = tornado_df[\"EF\"].ravel()\n",
    "y[:10]"
   ]
  },
  {
   "cell_type": "markdown",
   "id": "9f56735e",
   "metadata": {
    "id": "9f56735e"
   },
   "source": [
    "#### 2. Splitting into Train and Test sets"
   ]
  },
  {
   "cell_type": "code",
   "execution_count": 8,
   "id": "bf10a149",
   "metadata": {
    "executionInfo": {
     "elapsed": 4,
     "status": "ok",
     "timestamp": 1652219920988,
     "user": {
      "displayName": "Natalie Smeltz",
      "userId": "00128997758011837641"
     },
     "user_tz": 300
    },
    "id": "bf10a149"
   },
   "outputs": [],
   "source": [
    "X_train, X_test, y_train, y_test = train_test_split(X, y)"
   ]
  },
  {
   "cell_type": "markdown",
   "id": "98eba141",
   "metadata": {
    "id": "98eba141"
   },
   "source": [
    "#### 3. Scale the input data (X)"
   ]
  },
  {
   "cell_type": "code",
   "execution_count": 9,
   "id": "9c527628",
   "metadata": {
    "executionInfo": {
     "elapsed": 4,
     "status": "ok",
     "timestamp": 1652219920988,
     "user": {
      "displayName": "Natalie Smeltz",
      "userId": "00128997758011837641"
     },
     "user_tz": 300
    },
    "id": "9c527628"
   },
   "outputs": [],
   "source": [
    "# Creating StandardScaler instance\n",
    "scaler = StandardScaler()\n",
    "# Fitting Standard Scaller\n",
    "X_scaler = scaler.fit(X_train)\n",
    "# Scaling data\n",
    "X_train_scaled = X_scaler.transform(X_train)\n",
    "X_test_scaled = X_scaler.transform(X_test)"
   ]
  },
  {
   "cell_type": "markdown",
   "id": "b3c929c2",
   "metadata": {
    "id": "b3c929c2"
   },
   "source": [
    "#### 4. Fitting the Random Forest Model"
   ]
  },
  {
   "cell_type": "code",
   "execution_count": 10,
   "id": "ccbd0619",
   "metadata": {
    "executionInfo": {
     "elapsed": 142,
     "status": "ok",
     "timestamp": 1652219921127,
     "user": {
      "displayName": "Natalie Smeltz",
      "userId": "00128997758011837641"
     },
     "user_tz": 300
    },
    "id": "ccbd0619"
   },
   "outputs": [],
   "source": [
    "# Create a random forest classifier.\n",
    "rf_model = RandomForestClassifier(n_estimators=500, random_state=78)"
   ]
  },
  {
   "cell_type": "code",
   "execution_count": 11,
   "id": "9ca74dc5",
   "metadata": {
    "executionInfo": {
     "elapsed": 1925,
     "status": "ok",
     "timestamp": 1652219923051,
     "user": {
      "displayName": "Natalie Smeltz",
      "userId": "00128997758011837641"
     },
     "user_tz": 300
    },
    "id": "9ca74dc5"
   },
   "outputs": [],
   "source": [
    " # Fitting the model\n",
    "model = rf_model.fit(X_train_scaled, y_train)"
   ]
  },
  {
   "cell_type": "markdown",
   "id": "aca260f3",
   "metadata": {
    "id": "aca260f3"
   },
   "source": [
    "#### 5. Making Predictions Using Random Forest Model"
   ]
  },
  {
   "cell_type": "code",
   "execution_count": 12,
   "id": "03bdb8a6",
   "metadata": {
    "colab": {
     "base_uri": "https://localhost:8080/"
    },
    "executionInfo": {
     "elapsed": 219,
     "status": "ok",
     "timestamp": 1652219923268,
     "user": {
      "displayName": "Natalie Smeltz",
      "userId": "00128997758011837641"
     },
     "user_tz": 300
    },
    "id": "03bdb8a6",
    "outputId": "ad8b9f37-f039-4935-84bb-41dbbd65f347"
   },
   "outputs": [
    {
     "data": {
      "text/plain": [
       "array([0, 2, 1, 0, 3, 0, 2, 0, 1, 1, 1, 1, 2, 1, 2, 2, 1, 2, 2, 1, 1, 3,\n",
       "       1, 1, 2, 2, 1, 3, 2, 1, 0, 1, 1, 0, 1, 0, 1, 2, 2, 1, 4, 1, 2, 2,\n",
       "       0, 0, 1, 0, 3, 1, 2, 1, 0, 0, 1, 1, 2, 2, 2, 0, 1, 1, 0, 1, 1, 3,\n",
       "       1, 3, 0, 0, 1, 1, 0, 1, 1, 1, 1, 1, 1, 2, 1, 1, 0, 1, 1, 0, 2, 1,\n",
       "       1, 1, 0, 1, 3, 1, 0, 1, 1, 1, 0, 2, 0, 1, 1, 0, 1, 2, 0, 1, 1, 0,\n",
       "       1, 1, 1, 1, 1, 1, 2, 2, 1, 1, 1, 3, 3, 2, 0, 1, 2, 2, 1, 1, 0, 2,\n",
       "       2, 1, 2, 1, 1, 0, 1, 4, 1, 2, 1, 1, 1, 1, 2, 1, 1, 2, 2, 1, 2, 3,\n",
       "       1, 3, 1, 0, 1, 2, 1, 0, 3, 0, 1, 1, 1, 1, 0], dtype=int64)"
      ]
     },
     "execution_count": 12,
     "metadata": {},
     "output_type": "execute_result"
    }
   ],
   "source": [
    "# Making predictions using the testing data.\n",
    "predictions = rf_model.predict(X_test_scaled)\n",
    "predictions"
   ]
  },
  {
   "cell_type": "markdown",
   "id": "94d84c77",
   "metadata": {
    "id": "94d84c77"
   },
   "source": [
    "#### 6. Model Evaluation"
   ]
  },
  {
   "cell_type": "code",
   "execution_count": 13,
   "id": "ab35e5ae",
   "metadata": {
    "executionInfo": {
     "elapsed": 4,
     "status": "ok",
     "timestamp": 1652219923268,
     "user": {
      "displayName": "Natalie Smeltz",
      "userId": "00128997758011837641"
     },
     "user_tz": 300
    },
    "id": "ab35e5ae"
   },
   "outputs": [],
   "source": [
    "# Calculating the confusion matrix\n",
    "cm = confusion_matrix(y_test, predictions)\n",
    "cm_df = pd.DataFrame(\n",
    "    cm, index=[\"Actual 0\", \"Actual 1\",\"Actual 2\", \"Actual 3\",\"Actual 4\",\"Actual 5\"], columns=[\"Predicted 0\", \"Predicted 1\", \"Predicted 2\", \"Predicted 3\",\"Predicted 4\",\"Predicted 5\"]\n",
    ")\n",
    "# Calculating the accuracy score\n",
    "acc_score = accuracy_score(y_test, predictions)"
   ]
  },
  {
   "cell_type": "code",
   "execution_count": 14,
   "id": "ee16e8ed",
   "metadata": {
    "colab": {
     "base_uri": "https://localhost:8080/",
     "height": 467
    },
    "executionInfo": {
     "elapsed": 133,
     "status": "ok",
     "timestamp": 1652219923398,
     "user": {
      "displayName": "Natalie Smeltz",
      "userId": "00128997758011837641"
     },
     "user_tz": 300
    },
    "id": "ee16e8ed",
    "outputId": "bc1fc59a-2d98-4467-c70a-778dff50a8ad"
   },
   "outputs": [
    {
     "name": "stdout",
     "output_type": "stream",
     "text": [
      "Confusion Matrix\n"
     ]
    },
    {
     "data": {
      "text/html": [
       "<div>\n",
       "<style scoped>\n",
       "    .dataframe tbody tr th:only-of-type {\n",
       "        vertical-align: middle;\n",
       "    }\n",
       "\n",
       "    .dataframe tbody tr th {\n",
       "        vertical-align: top;\n",
       "    }\n",
       "\n",
       "    .dataframe thead th {\n",
       "        text-align: right;\n",
       "    }\n",
       "</style>\n",
       "<table border=\"1\" class=\"dataframe\">\n",
       "  <thead>\n",
       "    <tr style=\"text-align: right;\">\n",
       "      <th></th>\n",
       "      <th>Predicted 0</th>\n",
       "      <th>Predicted 1</th>\n",
       "      <th>Predicted 2</th>\n",
       "      <th>Predicted 3</th>\n",
       "      <th>Predicted 4</th>\n",
       "      <th>Predicted 5</th>\n",
       "    </tr>\n",
       "  </thead>\n",
       "  <tbody>\n",
       "    <tr>\n",
       "      <th>Actual 0</th>\n",
       "      <td>22</td>\n",
       "      <td>22</td>\n",
       "      <td>0</td>\n",
       "      <td>0</td>\n",
       "      <td>0</td>\n",
       "      <td>0</td>\n",
       "    </tr>\n",
       "    <tr>\n",
       "      <th>Actual 1</th>\n",
       "      <td>11</td>\n",
       "      <td>48</td>\n",
       "      <td>8</td>\n",
       "      <td>0</td>\n",
       "      <td>0</td>\n",
       "      <td>0</td>\n",
       "    </tr>\n",
       "    <tr>\n",
       "      <th>Actual 2</th>\n",
       "      <td>0</td>\n",
       "      <td>16</td>\n",
       "      <td>22</td>\n",
       "      <td>4</td>\n",
       "      <td>0</td>\n",
       "      <td>0</td>\n",
       "    </tr>\n",
       "    <tr>\n",
       "      <th>Actual 3</th>\n",
       "      <td>0</td>\n",
       "      <td>0</td>\n",
       "      <td>6</td>\n",
       "      <td>7</td>\n",
       "      <td>0</td>\n",
       "      <td>0</td>\n",
       "    </tr>\n",
       "    <tr>\n",
       "      <th>Actual 4</th>\n",
       "      <td>0</td>\n",
       "      <td>0</td>\n",
       "      <td>0</td>\n",
       "      <td>1</td>\n",
       "      <td>1</td>\n",
       "      <td>0</td>\n",
       "    </tr>\n",
       "    <tr>\n",
       "      <th>Actual 5</th>\n",
       "      <td>0</td>\n",
       "      <td>0</td>\n",
       "      <td>0</td>\n",
       "      <td>0</td>\n",
       "      <td>1</td>\n",
       "      <td>0</td>\n",
       "    </tr>\n",
       "  </tbody>\n",
       "</table>\n",
       "</div>"
      ],
      "text/plain": [
       "          Predicted 0  Predicted 1  Predicted 2  Predicted 3  Predicted 4  \\\n",
       "Actual 0           22           22            0            0            0   \n",
       "Actual 1           11           48            8            0            0   \n",
       "Actual 2            0           16           22            4            0   \n",
       "Actual 3            0            0            6            7            0   \n",
       "Actual 4            0            0            0            1            1   \n",
       "Actual 5            0            0            0            0            1   \n",
       "\n",
       "          Predicted 5  \n",
       "Actual 0            0  \n",
       "Actual 1            0  \n",
       "Actual 2            0  \n",
       "Actual 3            0  \n",
       "Actual 4            0  \n",
       "Actual 5            0  "
      ]
     },
     "metadata": {},
     "output_type": "display_data"
    },
    {
     "name": "stdout",
     "output_type": "stream",
     "text": [
      "Accuracy Score : 0.591715976331361\n",
      "Classification Report\n",
      "              precision    recall  f1-score   support\n",
      "\n",
      "           0       0.67      0.50      0.57        44\n",
      "           1       0.56      0.72      0.63        67\n",
      "           2       0.61      0.52      0.56        42\n",
      "           3       0.58      0.54      0.56        13\n",
      "           4       0.50      0.50      0.50         2\n",
      "           5       0.00      0.00      0.00         1\n",
      "\n",
      "    accuracy                           0.59       169\n",
      "   macro avg       0.49      0.46      0.47       169\n",
      "weighted avg       0.60      0.59      0.59       169\n",
      "\n"
     ]
    },
    {
     "name": "stderr",
     "output_type": "stream",
     "text": [
      "C:\\Users\\Nat\\anaconda3\\envs\\mlenv\\lib\\site-packages\\sklearn\\metrics\\_classification.py:1248: UndefinedMetricWarning: Precision and F-score are ill-defined and being set to 0.0 in labels with no predicted samples. Use `zero_division` parameter to control this behavior.\n",
      "  _warn_prf(average, modifier, msg_start, len(result))\n",
      "C:\\Users\\Nat\\anaconda3\\envs\\mlenv\\lib\\site-packages\\sklearn\\metrics\\_classification.py:1248: UndefinedMetricWarning: Precision and F-score are ill-defined and being set to 0.0 in labels with no predicted samples. Use `zero_division` parameter to control this behavior.\n",
      "  _warn_prf(average, modifier, msg_start, len(result))\n",
      "C:\\Users\\Nat\\anaconda3\\envs\\mlenv\\lib\\site-packages\\sklearn\\metrics\\_classification.py:1248: UndefinedMetricWarning: Precision and F-score are ill-defined and being set to 0.0 in labels with no predicted samples. Use `zero_division` parameter to control this behavior.\n",
      "  _warn_prf(average, modifier, msg_start, len(result))\n"
     ]
    }
   ],
   "source": [
    "# Displaying results\n",
    "print(\"Confusion Matrix\")\n",
    "display(cm_df)\n",
    "print(f\"Accuracy Score : {acc_score}\")\n",
    "print(\"Classification Report\")\n",
    "print(classification_report(y_test, predictions))"
   ]
  },
  {
   "cell_type": "markdown",
   "id": "5dfae66a",
   "metadata": {
    "id": "5dfae66a"
   },
   "source": [
    "#### 7. Rank the Importance of Features"
   ]
  },
  {
   "cell_type": "code",
   "execution_count": 15,
   "id": "7d679fe7",
   "metadata": {
    "executionInfo": {
     "elapsed": 1,
     "status": "ok",
     "timestamp": 1652219923398,
     "user": {
      "displayName": "Natalie Smeltz",
      "userId": "00128997758011837641"
     },
     "user_tz": 300
    },
    "id": "7d679fe7"
   },
   "outputs": [],
   "source": [
    "# Calculate feature importance in the Random Forest model.\n",
    "importances = rf_model.feature_importances_"
   ]
  },
  {
   "cell_type": "code",
   "execution_count": 16,
   "id": "84c85f3d",
   "metadata": {
    "colab": {
     "base_uri": "https://localhost:8080/"
    },
    "executionInfo": {
     "elapsed": 3,
     "status": "ok",
     "timestamp": 1652219923621,
     "user": {
      "displayName": "Natalie Smeltz",
      "userId": "00128997758011837641"
     },
     "user_tz": 300
    },
    "id": "84c85f3d",
    "outputId": "1e090e28-805d-4113-f4e5-6bd46657cdfe"
   },
   "outputs": [
    {
     "data": {
      "text/plain": [
       "[(0.2878993698787686, 'Loss'),\n",
       " (0.2399446116717991, 'Width'),\n",
       " (0.2266150348137891, 'Length'),\n",
       " (0.17126224977242055, 'Crop_Loss'),\n",
       " (0.05851391592127216, 'Injuries'),\n",
       " (0.01576481794195051, 'Fatalities')]"
      ]
     },
     "execution_count": 16,
     "metadata": {},
     "output_type": "execute_result"
    }
   ],
   "source": [
    "# We can sort the features by their importance.\n",
    "feature_sort = sorted(zip(rf_model.feature_importances_, X.columns), reverse=True)\n",
    "feature_sort"
   ]
  },
  {
   "cell_type": "code",
   "execution_count": 17,
   "id": "8e72e1c8",
   "metadata": {
    "colab": {
     "base_uri": "https://localhost:8080/",
     "height": 300
    },
    "executionInfo": {
     "elapsed": 476,
     "status": "ok",
     "timestamp": 1652219924095,
     "user": {
      "displayName": "Natalie Smeltz",
      "userId": "00128997758011837641"
     },
     "user_tz": 300
    },
    "id": "8e72e1c8",
    "outputId": "4f88bca9-bc02-4251-a55f-c08f3a01f362"
   },
   "outputs": [
    {
     "data": {
      "image/png": "[encoded data removed]",
      "text/plain": [
       "<Figure size 432x288 with 1 Axes>"
      ]
     },
     "metadata": {
      "needs_background": "light"
     },
     "output_type": "display_data"
    }
   ],
   "source": [
    "# Plot Feature Importance\n",
    "features_sorted = []\n",
    "importance_sorted = []\n",
    "\n",
    "for i in feature_sort:\n",
    "    features_sorted += [i[1]]\n",
    "    importance_sorted += [i[0]]\n",
    "\n",
    "plt.title(\"Feature importance\", fontsize=15)\n",
    "plt.xlabel(\"Importance\", fontsize=13)\n",
    "plt.ylabel(\"Features\", fontsize=13)\n",
    "\n",
    "plt.barh(range(len(importance_sorted)), importance_sorted,)\n",
    "plt.yticks(range(len(importance_sorted)), features_sorted);"
   ]
  }
 ],
 "metadata": {
  "colab": {
   "collapsed_sections": [],
   "name": "RandomForest_predictEF.ipynb",
   "provenance": []
  },
  "kernelspec": {
   "display_name": "mlenv",
   "language": "python",
   "name": "mlenv"
  },
  "language_info": {
   "codemirror_mode": {
    "name": "ipython",
    "version": 3
   },
   "file_extension": ".py",
   "mimetype": "text/x-python",
   "name": "python",
   "nbconvert_exporter": "python",
   "pygments_lexer": "ipython3",
   "version": "3.7.11"
  }
 },
 "nbformat": 4,
 "nbformat_minor": 5
}
