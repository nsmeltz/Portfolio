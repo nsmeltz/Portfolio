{
 "cells": [
  {
   "cell_type": "markdown",
   "metadata": {
    "id": "MSPohgKbP_Nx"
   },
   "source": [
    "# This script uses a Neural Network to predict EF Rating given Length (miles), Width (yds), Loss ($)"
   ]
  },
  {
   "cell_type": "code",
   "execution_count": 1,
   "metadata": {},
   "outputs": [],
   "source": [
    "# Import dependencies\n",
    "from pathlib import Path \n",
    "import pandas as pd\n",
    "import numpy as np"
   ]
  },
  {
   "cell_type": "markdown",
   "metadata": {
    "id": "geL60gIf-_9F"
   },
   "source": [
    "## Import & Inspect the Data"
   ]
  },
  {
   "cell_type": "code",
   "execution_count": 2,
   "metadata": {
    "executionInfo": {
     "elapsed": 3,
     "status": "ok",
     "timestamp": 1652740247312,
     "user": {
      "displayName": "Natalie Smeltz",
      "userId": "00128997758011837641"
     },
     "user_tz": 300
    },
    "id": "LGNf4KUcRCKR"
   },
   "outputs": [],
   "source": [
    "# Loading data\n",
    "file_path = Path(\"../Cleaned_Data/1950-2020_tornadoes_cleaned.csv\")\n",
    "tornado_df = pd.read_csv(file_path)"
   ]
  },
  {
   "cell_type": "code",
   "execution_count": 3,
   "metadata": {
    "colab": {
     "base_uri": "https://localhost:8080/"
    },
    "executionInfo": {
     "elapsed": 5,
     "status": "ok",
     "timestamp": 1652740318841,
     "user": {
      "displayName": "Natalie Smeltz",
      "userId": "00128997758011837641"
     },
     "user_tz": 300
    },
    "id": "bcsWqt9GP_N1",
    "outputId": "f6699c23-06fe-4dde-8aa3-be5e247f251e"
   },
   "outputs": [
    {
     "data": {
      "text/plain": [
       "Index(['Timestamp', 'Year', 'Month', 'Day', 'State', 'Start_Lat', 'Start_Lon',\n",
       "       'End_Lat', 'End_Lon', 'EF', 'Injuries', 'Fatalities', 'Loss',\n",
       "       'Crop_Loss', 'Length', 'Width'],\n",
       "      dtype='object')"
      ]
     },
     "execution_count": 3,
     "metadata": {},
     "output_type": "execute_result"
    }
   ],
   "source": [
    "tornado_df.columns"
   ]
  },
  {
   "cell_type": "code",
   "execution_count": 4,
   "metadata": {
    "executionInfo": {
     "elapsed": 4,
     "status": "ok",
     "timestamp": 1652740318841,
     "user": {
      "displayName": "Natalie Smeltz",
      "userId": "00128997758011837641"
     },
     "user_tz": 300
    },
    "id": "cFOUCmIFXbE8"
   },
   "outputs": [],
   "source": [
    "# drop na rows\n",
    "tornado_df = tornado_df.dropna()"
   ]
  },
  {
   "cell_type": "markdown",
   "metadata": {},
   "source": [
    "## Machine Learning: Neural Network using Keras"
   ]
  },
  {
   "cell_type": "code",
   "execution_count": 5,
   "metadata": {
    "executionInfo": {
     "elapsed": 5172,
     "status": "ok",
     "timestamp": 1652740247311,
     "user": {
      "displayName": "Natalie Smeltz",
      "userId": "00128997758011837641"
     },
     "user_tz": 300
    },
    "id": "ec7mg1vlP_Nz"
   },
   "outputs": [
    {
     "ename": "ModuleNotFoundError",
     "evalue": "No module named 'tensorflow'",
     "output_type": "error",
     "traceback": [
      "\u001b[1;31m---------------------------------------------------------------------------\u001b[0m",
      "\u001b[1;31mModuleNotFoundError\u001b[0m                       Traceback (most recent call last)",
      "Input \u001b[1;32mIn [5]\u001b[0m, in \u001b[0;36m<cell line: 5>\u001b[1;34m()\u001b[0m\n\u001b[0;32m      3\u001b[0m \u001b[38;5;28;01mfrom\u001b[39;00m \u001b[38;5;21;01msklearn\u001b[39;00m\u001b[38;5;21;01m.\u001b[39;00m\u001b[38;5;21;01mpreprocessing\u001b[39;00m \u001b[38;5;28;01mimport\u001b[39;00m StandardScaler\n\u001b[0;32m      4\u001b[0m \u001b[38;5;28;01mimport\u001b[39;00m \u001b[38;5;21;01mpandas\u001b[39;00m \u001b[38;5;28;01mas\u001b[39;00m \u001b[38;5;21;01mpd\u001b[39;00m\n\u001b[1;32m----> 5\u001b[0m \u001b[38;5;28;01mimport\u001b[39;00m \u001b[38;5;21;01mtensorflow\u001b[39;00m \u001b[38;5;28;01mas\u001b[39;00m \u001b[38;5;21;01mtf\u001b[39;00m\n\u001b[0;32m      6\u001b[0m \u001b[38;5;28;01mimport\u001b[39;00m \u001b[38;5;21;01mmatplotlib\u001b[39;00m\u001b[38;5;21;01m.\u001b[39;00m\u001b[38;5;21;01mpyplot\u001b[39;00m \u001b[38;5;28;01mas\u001b[39;00m \u001b[38;5;21;01mplt\u001b[39;00m\n\u001b[0;32m      7\u001b[0m \u001b[38;5;28;01mimport\u001b[39;00m \u001b[38;5;21;01mnumpy\u001b[39;00m\n",
      "\u001b[1;31mModuleNotFoundError\u001b[0m: No module named 'tensorflow'"
     ]
    }
   ],
   "source": [
    "# Import our dependencies\n",
    "from sklearn.model_selection import train_test_split\n",
    "from sklearn.preprocessing import StandardScaler\n",
    "import pandas as pd\n",
    "import tensorflow as tf\n",
    "import matplotlib.pyplot as plt\n",
    "import numpy"
   ]
  },
  {
   "cell_type": "code",
   "execution_count": 6,
   "metadata": {
    "colab": {
     "base_uri": "https://localhost:8080/"
    },
    "executionInfo": {
     "elapsed": 15790,
     "status": "ok",
     "timestamp": 1652740242141,
     "user": {
      "displayName": "Natalie Smeltz",
      "userId": "00128997758011837641"
     },
     "user_tz": 300
    },
    "id": "W1jR0nHG5rBj",
    "outputId": "cf3f0529-6209-4a51-ad7b-5aa06019dcbf"
   },
   "outputs": [
    {
     "name": "stdout",
     "output_type": "stream",
     "text": [
      "Collecting ann_visualizer\n",
      "  Downloading ann_visualizer-2.5.tar.gz (4.7 kB)\n",
      "Building wheels for collected packages: ann-visualizer\n",
      "  Building wheel for ann-visualizer (setup.py): started\n",
      "  Building wheel for ann-visualizer (setup.py): finished with status 'done'\n",
      "  Created wheel for ann-visualizer: filename=ann_visualizer-2.5-py3-none-any.whl size=4181 sha256=62c4feecfd36c4d3d7e51269733f4382824c69d9b39d915b2d0170cad1442c89\n",
      "  Stored in directory: c:\\users\\nat\\appdata\\local\\pip\\cache\\wheels\\2d\\d8\\86\\67f4a249969eaaa31c6df569f4ebfa84634fae3af2c627107b\n",
      "Successfully built ann-visualizer\n",
      "Installing collected packages: ann-visualizer\n",
      "Successfully installed ann-visualizer-2.5\n",
      "Collecting graphviz\n",
      "  Downloading graphviz-0.20-py3-none-any.whl (46 kB)\n",
      "Installing collected packages: graphviz\n",
      "Successfully installed graphviz-0.20\n"
     ]
    }
   ],
   "source": [
    "!pip3 install ann_visualizer\n",
    "!pip install graphviz"
   ]
  },
  {
   "cell_type": "markdown",
   "metadata": {
    "id": "KHKPqwlJRGJd"
   },
   "source": [
    "### 1. Define input data (X) and output data (y)"
   ]
  },
  {
   "cell_type": "code",
   "execution_count": 7,
   "metadata": {
    "colab": {
     "base_uri": "https://localhost:8080/",
     "height": 424
    },
    "executionInfo": {
     "elapsed": 171,
     "status": "ok",
     "timestamp": 1652740319008,
     "user": {
      "displayName": "Natalie Smeltz",
      "userId": "00128997758011837641"
     },
     "user_tz": 300
    },
    "id": "3kgCt2k0RGJd",
    "outputId": "9771f77b-f63d-4f98-f40a-5795fee718e3"
   },
   "outputs": [
    {
     "data": {
      "text/html": [
       "<div>\n",
       "<style scoped>\n",
       "    .dataframe tbody tr th:only-of-type {\n",
       "        vertical-align: middle;\n",
       "    }\n",
       "\n",
       "    .dataframe tbody tr th {\n",
       "        vertical-align: top;\n",
       "    }\n",
       "\n",
       "    .dataframe thead th {\n",
       "        text-align: right;\n",
       "    }\n",
       "</style>\n",
       "<table border=\"1\" class=\"dataframe\">\n",
       "  <thead>\n",
       "    <tr style=\"text-align: right;\">\n",
       "      <th></th>\n",
       "      <th>Loss</th>\n",
       "      <th>Length</th>\n",
       "      <th>Width</th>\n",
       "    </tr>\n",
       "  </thead>\n",
       "  <tbody>\n",
       "    <tr>\n",
       "      <th>41903</th>\n",
       "      <td>1110000.0</td>\n",
       "      <td>17.00</td>\n",
       "      <td>120</td>\n",
       "    </tr>\n",
       "    <tr>\n",
       "      <th>49035</th>\n",
       "      <td>150000.0</td>\n",
       "      <td>0.46</td>\n",
       "      <td>50</td>\n",
       "    </tr>\n",
       "    <tr>\n",
       "      <th>50046</th>\n",
       "      <td>200000.0</td>\n",
       "      <td>13.93</td>\n",
       "      <td>200</td>\n",
       "    </tr>\n",
       "    <tr>\n",
       "      <th>50056</th>\n",
       "      <td>900000.0</td>\n",
       "      <td>17.26</td>\n",
       "      <td>360</td>\n",
       "    </tr>\n",
       "    <tr>\n",
       "      <th>50070</th>\n",
       "      <td>1000000.0</td>\n",
       "      <td>4.80</td>\n",
       "      <td>440</td>\n",
       "    </tr>\n",
       "    <tr>\n",
       "      <th>...</th>\n",
       "      <td>...</td>\n",
       "      <td>...</td>\n",
       "      <td>...</td>\n",
       "    </tr>\n",
       "    <tr>\n",
       "      <th>66897</th>\n",
       "      <td>20000.0</td>\n",
       "      <td>1.26</td>\n",
       "      <td>50</td>\n",
       "    </tr>\n",
       "    <tr>\n",
       "      <th>66918</th>\n",
       "      <td>35000.0</td>\n",
       "      <td>0.26</td>\n",
       "      <td>50</td>\n",
       "    </tr>\n",
       "    <tr>\n",
       "      <th>66919</th>\n",
       "      <td>45000.0</td>\n",
       "      <td>2.17</td>\n",
       "      <td>100</td>\n",
       "    </tr>\n",
       "    <tr>\n",
       "      <th>66971</th>\n",
       "      <td>150000.0</td>\n",
       "      <td>2.58</td>\n",
       "      <td>100</td>\n",
       "    </tr>\n",
       "    <tr>\n",
       "      <th>66977</th>\n",
       "      <td>225000.0</td>\n",
       "      <td>0.87</td>\n",
       "      <td>100</td>\n",
       "    </tr>\n",
       "  </tbody>\n",
       "</table>\n",
       "<p>673 rows × 3 columns</p>\n",
       "</div>"
      ],
      "text/plain": [
       "            Loss  Length  Width\n",
       "41903  1110000.0   17.00    120\n",
       "49035   150000.0    0.46     50\n",
       "50046   200000.0   13.93    200\n",
       "50056   900000.0   17.26    360\n",
       "50070  1000000.0    4.80    440\n",
       "...          ...     ...    ...\n",
       "66897    20000.0    1.26     50\n",
       "66918    35000.0    0.26     50\n",
       "66919    45000.0    2.17    100\n",
       "66971   150000.0    2.58    100\n",
       "66977   225000.0    0.87    100\n",
       "\n",
       "[673 rows x 3 columns]"
      ]
     },
     "execution_count": 7,
     "metadata": {},
     "output_type": "execute_result"
    }
   ],
   "source": [
    "X = tornado_df.copy()\n",
    "X = X.drop(['Timestamp', 'Year', 'Month', 'Day', 'State', 'Start_Lat', 'Start_Lon',\n",
    "       'End_Lat', 'End_Lon', 'EF', 'Injuries', 'Fatalities',\n",
    "       'Crop_Loss'], axis=1)\n",
    "X"
   ]
  },
  {
   "cell_type": "code",
   "execution_count": 8,
   "metadata": {
    "colab": {
     "base_uri": "https://localhost:8080/"
    },
    "executionInfo": {
     "elapsed": 5,
     "status": "ok",
     "timestamp": 1652740319009,
     "user": {
      "displayName": "Natalie Smeltz",
      "userId": "00128997758011837641"
     },
     "user_tz": 300
    },
    "id": "wjptez7HRGJe",
    "outputId": "ee0ab95b-d014-40c5-a6d4-e5586b965a37"
   },
   "outputs": [
    {
     "data": {
      "text/plain": [
       "array([2, 2, 2, 2, 3, 1, 1, 2, 0, 2], dtype=int64)"
      ]
     },
     "execution_count": 8,
     "metadata": {},
     "output_type": "execute_result"
    }
   ],
   "source": [
    "y = tornado_df[\"EF\"].ravel()\n",
    "y[:10]"
   ]
  },
  {
   "cell_type": "markdown",
   "metadata": {
    "id": "SIcTXziMRGJf"
   },
   "source": [
    "### 2. Splitting into Train and Test sets"
   ]
  },
  {
   "cell_type": "code",
   "execution_count": null,
   "metadata": {
    "executionInfo": {
     "elapsed": 4,
     "status": "ok",
     "timestamp": 1652740319009,
     "user": {
      "displayName": "Natalie Smeltz",
      "userId": "00128997758011837641"
     },
     "user_tz": 300
    },
    "id": "GSgGSjVBRGJf"
   },
   "outputs": [],
   "source": [
    "X_train, X_test, y_train, y_test = train_test_split(X, y, random_state =78)"
   ]
  },
  {
   "cell_type": "markdown",
   "metadata": {
    "id": "GpNL4RpCRGJf"
   },
   "source": [
    "### 3. Scale the input data (X)"
   ]
  },
  {
   "cell_type": "code",
   "execution_count": null,
   "metadata": {
    "executionInfo": {
     "elapsed": 4,
     "status": "ok",
     "timestamp": 1652740319009,
     "user": {
      "displayName": "Natalie Smeltz",
      "userId": "00128997758011837641"
     },
     "user_tz": 300
    },
    "id": "db7fBktZRGJg"
   },
   "outputs": [],
   "source": [
    "# Creating StandardScaler instance\n",
    "scaler = StandardScaler()\n",
    "# Fitting Standard Scaller\n",
    "X_scaler = scaler.fit(X_train)\n",
    "# Scaling data\n",
    "X_train_scaled = X_scaler.transform(X_train)\n",
    "X_test_scaled = X_scaler.transform(X_test)"
   ]
  },
  {
   "cell_type": "markdown",
   "metadata": {
    "id": "bt-EYJCFB0v1"
   },
   "source": [
    "### 4. Define Deep Learning Model"
   ]
  },
  {
   "cell_type": "code",
   "execution_count": null,
   "metadata": {
    "colab": {
     "base_uri": "https://localhost:8080/"
    },
    "executionInfo": {
     "elapsed": 537,
     "status": "ok",
     "timestamp": 1652740319543,
     "user": {
      "displayName": "Natalie Smeltz",
      "userId": "00128997758011837641"
     },
     "user_tz": 300
    },
    "id": "I16CE5DqP_N7",
    "outputId": "70d6a6e5-98e8-4b41-fb71-e7007930ed38"
   },
   "outputs": [],
   "source": [
    "# Define the model - deep neural net, i.e., the number of input features and hidden nodes for each layer.\n",
    "\n",
    "# Rule of Thumb:\n",
    "#   1. Number of Layers: Start with two hidden layers (this does not include the last layer).\n",
    "#   2. Number of nodes (size) of intermediate layers: a number from the geometric progression of 2, e.g., 4, 8, 16, 32, … . \n",
    "#      The first layer should be around half of the number of input data features. The next layer size as half of the previous.\n",
    "\n",
    "number_input_features = len(X.columns)\n",
    "hidden_nodes_layer1 = 4\n",
    "hidden_nodes_layer2 = 2\n",
    "\n",
    "nn = tf.keras.models.Sequential()\n",
    "\n",
    "# First hidden layer\n",
    "nn.add( tf.keras.layers.Dense(units=hidden_nodes_layer1, input_dim=number_input_features, activation=\"relu\") )\n",
    "\n",
    "# Second hidden layer\n",
    "nn.add( tf.keras.layers.Dense(units=hidden_nodes_layer2, activation=\"relu\") )\n",
    "\n",
    "# Output layer\n",
    "nn.add( tf.keras.layers.Dense(units=1, activation=\"sigmoid\") )\n",
    "\n",
    "# Check the structure of the model\n",
    "nn.summary()"
   ]
  },
  {
   "cell_type": "markdown",
   "metadata": {
    "id": "5E28mbEbCSC7"
   },
   "source": [
    "### 5. Compile & Train the Model"
   ]
  },
  {
   "cell_type": "code",
   "execution_count": null,
   "metadata": {
    "executionInfo": {
     "elapsed": 3,
     "status": "ok",
     "timestamp": 1652740319543,
     "user": {
      "displayName": "Natalie Smeltz",
      "userId": "00128997758011837641"
     },
     "user_tz": 300
    },
    "id": "iO3zZKXlMEFg"
   },
   "outputs": [],
   "source": [
    "# Import checkpoint dependencies\n",
    "import os\n",
    "from tensorflow.keras.callbacks import ModelCheckpoint\n",
    "\n",
    "# Define the checkpoint path and filenames\n",
    "os.makedirs(\"checkpoints/\",exist_ok=True)\n",
    "checkpoint_path = \"checkpoints/weights.{epoch:02d}.hdf5\""
   ]
  },
  {
   "cell_type": "code",
   "execution_count": null,
   "metadata": {
    "colab": {
     "base_uri": "https://localhost:8080/"
    },
    "executionInfo": {
     "elapsed": 134,
     "status": "ok",
     "timestamp": 1652740319675,
     "user": {
      "displayName": "Natalie Smeltz",
      "userId": "00128997758011837641"
     },
     "user_tz": 300
    },
    "id": "ofs817UGP_N7",
    "outputId": "b6b2d793-825e-424f-aaff-bf1ea503966f"
   },
   "outputs": [],
   "source": [
    "# Compile the model\n",
    "nn.compile(loss=\"mean_squared_error\", optimizer=\"adam\", metrics=[\"accuracy\"])\n",
    "\n",
    "# Create a callback that saves the model's weights every epoch\n",
    "cp_callback = ModelCheckpoint(\n",
    "    filepath=checkpoint_path,\n",
    "    verbose=1,\n",
    "    save_weights_only=True,\n",
    "    period = 5)"
   ]
  },
  {
   "cell_type": "code",
   "execution_count": null,
   "metadata": {
    "colab": {
     "base_uri": "https://localhost:8080/"
    },
    "executionInfo": {
     "elapsed": 11752,
     "status": "ok",
     "timestamp": 1652740331421,
     "user": {
      "displayName": "Natalie Smeltz",
      "userId": "00128997758011837641"
     },
     "user_tz": 300
    },
    "id": "F92QrW82P_N7",
    "outputId": "68e6b459-6fd7-4664-e3a4-bcc9e02081a0"
   },
   "outputs": [],
   "source": [
    "# Train the model\n",
    "fit_model = nn.fit(X_train_scaled,y_train,validation_split=0.33, epochs=100,callbacks=[cp_callback])"
   ]
  },
  {
   "cell_type": "markdown",
   "metadata": {
    "id": "41Wd-G_jzByU"
   },
   "source": [
    "### 6. Save the Model"
   ]
  },
  {
   "cell_type": "code",
   "execution_count": null,
   "metadata": {
    "executionInfo": {
     "elapsed": 5,
     "status": "ok",
     "timestamp": 1652740331422,
     "user": {
      "displayName": "Natalie Smeltz",
      "userId": "00128997758011837641"
     },
     "user_tz": 300
    },
    "id": "k-x_AfVUzBRC"
   },
   "outputs": [],
   "source": [
    "nn.save(\"NN_predictEF.h5\")"
   ]
  },
  {
   "cell_type": "markdown",
   "metadata": {
    "id": "l-MOOLLn2KXj"
   },
   "source": [
    "### 7. Plot Model Performance"
   ]
  },
  {
   "cell_type": "code",
   "execution_count": null,
   "metadata": {
    "colab": {
     "base_uri": "https://localhost:8080/"
    },
    "executionInfo": {
     "elapsed": 5,
     "status": "ok",
     "timestamp": 1652740331422,
     "user": {
      "displayName": "Natalie Smeltz",
      "userId": "00128997758011837641"
     },
     "user_tz": 300
    },
    "id": "iHmVbweR2Jyf",
    "outputId": "c74d83ce-0cb0-4d3c-ab48-30b1cd95164f"
   },
   "outputs": [],
   "source": [
    "print(fit_model.history.keys())"
   ]
  },
  {
   "cell_type": "code",
   "execution_count": null,
   "metadata": {
    "colab": {
     "base_uri": "https://localhost:8080/",
     "height": 295
    },
    "executionInfo": {
     "elapsed": 321,
     "status": "ok",
     "timestamp": 1652740331739,
     "user": {
      "displayName": "Natalie Smeltz",
      "userId": "00128997758011837641"
     },
     "user_tz": 300
    },
    "id": "uvyxHBYK2rrG",
    "outputId": "918236e3-e9d3-4bb7-e0c3-2425a9e2eaad"
   },
   "outputs": [],
   "source": [
    "# summarize history for accuracy\n",
    "plt.plot(fit_model.history['accuracy'])\n",
    "plt.plot(fit_model.history['val_accuracy'])\n",
    "plt.title('model accuracy')\n",
    "plt.ylabel('accuracy')\n",
    "plt.xlabel('epoch')\n",
    "plt.legend(['train', 'test'], loc='upper left')\n",
    "plt.show()\n"
   ]
  },
  {
   "cell_type": "code",
   "execution_count": null,
   "metadata": {
    "colab": {
     "base_uri": "https://localhost:8080/",
     "height": 295
    },
    "executionInfo": {
     "elapsed": 205,
     "status": "ok",
     "timestamp": 1652740331942,
     "user": {
      "displayName": "Natalie Smeltz",
      "userId": "00128997758011837641"
     },
     "user_tz": 300
    },
    "id": "GiTyNbgH3G6w",
    "outputId": "1563e028-732c-410c-9a64-4e759d5fa1ae"
   },
   "outputs": [],
   "source": [
    "# summarize history for loss\n",
    "plt.plot(fit_model.history['loss'])\n",
    "plt.plot(fit_model.history['val_loss'])\n",
    "plt.title('model loss')\n",
    "plt.ylabel('loss')\n",
    "plt.xlabel('epoch')\n",
    "plt.legend(['train', 'test'], loc='upper left')\n",
    "plt.show()"
   ]
  },
  {
   "cell_type": "code",
   "execution_count": null,
   "metadata": {
    "executionInfo": {
     "elapsed": 379,
     "status": "ok",
     "timestamp": 1652740332319,
     "user": {
      "displayName": "Natalie Smeltz",
      "userId": "00128997758011837641"
     },
     "user_tz": 300
    },
    "id": "RN958zV85uvn"
   },
   "outputs": [],
   "source": [
    "# Visualize the Neural Network\n",
    "from ann_visualizer.visualize import ann_viz\n",
    "ann_viz(nn,view=True, filename=\"NN_predictEF\", title= \"EF Neural Network\")"
   ]
  },
  {
   "cell_type": "markdown",
   "metadata": {
    "id": "tRmATN16wFh9"
   },
   "source": [
    "### 6. Model Accuracy"
   ]
  },
  {
   "cell_type": "code",
   "execution_count": null,
   "metadata": {
    "colab": {
     "base_uri": "https://localhost:8080/"
    },
    "executionInfo": {
     "elapsed": 322,
     "status": "ok",
     "timestamp": 1652740332640,
     "user": {
      "displayName": "Natalie Smeltz",
      "userId": "00128997758011837641"
     },
     "user_tz": 300
    },
    "id": "-kDhF6WiP_N7",
    "outputId": "10b4b9f9-22d0-4c99-e15c-68460ed93206"
   },
   "outputs": [],
   "source": [
    "# Evaluate the model using the test data\n",
    "model_loss, model_accuracy = nn.evaluate(X_test_scaled,y_test,verbose=2)\n",
    "print(f\"Loss: {model_loss}, Accuracy: {model_accuracy}\")"
   ]
  }
 ],
 "metadata": {
  "colab": {
   "collapsed_sections": [],
   "name": "NeuralNetwork_predictEF.ipynb",
   "provenance": []
  },
  "kernelspec": {
   "display_name": "PythonData",
   "language": "python",
   "name": "pythondata"
  },
  "language_info": {
   "codemirror_mode": {
    "name": "ipython",
    "version": 3
   },
   "file_extension": ".py",
   "mimetype": "text/x-python",
   "name": "python",
   "nbconvert_exporter": "python",
   "pygments_lexer": "ipython3",
   "version": "3.9.7"
  }
 },
 "nbformat": 4,
 "nbformat_minor": 1
}
